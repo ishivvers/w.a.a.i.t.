{
 "cells": [
  {
   "cell_type": "code",
   "execution_count": null,
   "metadata": {
    "ExecuteTime": {
     "end_time": "2018-05-02T21:33:29.214250Z",
     "start_time": "2018-05-02T21:33:29.163937Z"
    }
   },
   "outputs": [],
   "source": [
    "%load_ext snakeviz\n",
    "%load_ext autoreload\n",
    "%autoreload 2"
   ]
  },
  {
   "cell_type": "code",
   "execution_count": null,
   "metadata": {
    "ExecuteTime": {
     "end_time": "2018-05-02T21:33:29.734054Z",
     "start_time": "2018-05-02T21:33:29.425739Z"
    }
   },
   "outputs": [],
   "source": [
    "from mcts import MCTS\n",
    "from games.checkers import Board"
   ]
  },
  {
   "cell_type": "code",
   "execution_count": null,
   "metadata": {
    "ExecuteTime": {
     "end_time": "2018-05-02T21:34:31.491182Z",
     "start_time": "2018-05-02T21:33:58.420739Z"
    },
    "scrolled": false
   },
   "outputs": [],
   "source": [
    "%%snakeviz\n",
    "mc = MCTS(Board())\n",
    "mc.run(t=30)\n",
    "\n",
    "print('number of plays:', mc.tree[list(mc.tree.keys())[0]]['plays'])"
   ]
  }
 ],
 "metadata": {
  "kernelspec": {
   "display_name": "Python 3",
   "language": "python",
   "name": "python3"
  },
  "language_info": {
   "codemirror_mode": {
    "name": "ipython",
    "version": 3
   },
   "file_extension": ".py",
   "mimetype": "text/x-python",
   "name": "python",
   "nbconvert_exporter": "python",
   "pygments_lexer": "ipython3",
   "version": "3.6.5"
  },
  "toc": {
   "nav_menu": {},
   "number_sections": true,
   "sideBar": true,
   "skip_h1_title": false,
   "title_cell": "Table of Contents",
   "title_sidebar": "Contents",
   "toc_cell": false,
   "toc_position": {},
   "toc_section_display": true,
   "toc_window_display": false
  }
 },
 "nbformat": 4,
 "nbformat_minor": 2
}
